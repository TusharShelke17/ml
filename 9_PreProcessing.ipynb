{
  "cells": [
    {
      "cell_type": "markdown",
      "metadata": {
        "id": "vpwq4gOXp3Ki"
      },
      "source": [
        "The dataset contains information about customers of a telecommunications\n",
        "company and whether they have churned (i.e., discontinued their services). The dataset\n",
        "includes various attributes of the customers, such as their demographics, usage patterns, and\n",
        "account information. The goal is to perform data cleaning and preparation to gain insights\n",
        "into the factors that contribute to customer churn.\n",
        "Tasks to Perform:\n",
        "1. Import the \"Telecom_Customer_Churn.csv\" dataset.\n",
        "2. Explore the dataset to understand its structure and content.\n",
        "3. Handle missing values in the dataset, deciding on an appropriate strategy.\n",
        "4. Remove any duplicate records from the dataset.\n",
        "5. Check for inconsistent data, such as inconsistent formatting or spelling variations,\n",
        "and standardize it.\n",
        "6. Convert columns to the correct data types as needed.\n",
        "7. Identify and handle outliers in the data.\n",
        "8. Perform feature engineering, creating new features that may be relevant to\n",
        "predicting customer churn.\n",
        "9. Normalize or scale the data if necessary.\n",
        "10. Split the dataset into training and testing sets for further analysis.\n",
        "11. Export the cleaned dataset for future analysis or modeling."
      ],
      "id": "vpwq4gOXp3Ki"
    },
    {
      "cell_type": "code",
      "execution_count": null,
      "id": "2ff262bf",
      "metadata": {
        "id": "2ff262bf"
      },
      "outputs": [],
      "source": [
        "import pandas as pd\n",
        "from sklearn.model_selection import train_test_split\n",
        "from sklearn.preprocessing import StandardScaler\n",
        "\n",
        "df = pd.read_csv(\"telecom_customer_churn.csv\")\n",
        "df"
      ]
    },
    {
      "cell_type": "code",
      "source": [
        "print(df.head())  # View the first few rows\n",
        "print(df.info())  # Get information about the dataset\n",
        "print(df.describe())  # Descriptive statistics"
      ],
      "metadata": {
        "id": "tIeJ9u3oxLe1"
      },
      "id": "tIeJ9u3oxLe1",
      "execution_count": null,
      "outputs": []
    },
    {
      "cell_type": "code",
      "source": [
        "df.fillna(0, inplace=True)  # handling missing values"
      ],
      "metadata": {
        "id": "aUjZiqQ5xNsd"
      },
      "id": "aUjZiqQ5xNsd",
      "execution_count": null,
      "outputs": []
    },
    {
      "cell_type": "code",
      "source": [
        "df.drop_duplicates(inplace=True) #removing duplicates"
      ],
      "metadata": {
        "id": "ULw4kieDxSaz"
      },
      "id": "ULw4kieDxSaz",
      "execution_count": null,
      "outputs": []
    },
    {
      "cell_type": "code",
      "source": [
        "df['Gender'] = df['Gender'].str.lower()  # Example: Standardize gender to lowercase"
      ],
      "metadata": {
        "id": "OBSD1cPoxUJa"
      },
      "id": "OBSD1cPoxUJa",
      "execution_count": null,
      "outputs": []
    },
    {
      "cell_type": "code",
      "execution_count": null,
      "id": "345e86e1",
      "metadata": {
        "id": "345e86e1"
      },
      "outputs": [],
      "source": [
        "df['TotalCharges'] = pd.to_numeric(df['Total Charges'], errors='coerce')  # Convert TotalCharges to numeric"
      ]
    },
    {
      "cell_type": "code",
      "source": [
        "# remove outliers from the TotalCharges column:\n",
        "z_scores = (df['TotalCharges'] - df['Total Charges'].mean()) / df['Total Charges'].std()\n",
        "df = df[(z_scores.abs() < 3)]"
      ],
      "metadata": {
        "id": "S1RDwUTAxdec"
      },
      "id": "S1RDwUTAxdec",
      "execution_count": null,
      "outputs": []
    },
    {
      "cell_type": "code",
      "source": [
        "df['TenureinMonths'] = df['Tenure in Months'] * 30  # create new features - Convert tenure to months\n",
        "df"
      ],
      "metadata": {
        "id": "Gx9Pp7Dmxmj6"
      },
      "id": "Gx9Pp7Dmxmj6",
      "execution_count": null,
      "outputs": []
    },
    {
      "cell_type": "code",
      "source": [
        "scaler = StandardScaler()   #normalize the data\n",
        "df[['MonthlyCharge', 'TotalCharges', 'TenureinMonths']] = scaler.fit_transform(df[['Monthly Charge', 'Total Charges', 'Tenure in Months']])"
      ],
      "metadata": {
        "id": "Y0zkLrMvxuFk"
      },
      "id": "Y0zkLrMvxuFk",
      "execution_count": null,
      "outputs": []
    },
    {
      "cell_type": "code",
      "source": [
        "X = df.drop('Churn Category', axis=1)      #split data into training and testing\n",
        "y = df['Churn Category']\n",
        "X_train, X_test, y_train, y_test = train_test_split(X, y, test_size=0.2, random_state=42)"
      ],
      "metadata": {
        "id": "tNqMHf1AzJes"
      },
      "id": "tNqMHf1AzJes",
      "execution_count": null,
      "outputs": []
    },
    {
      "cell_type": "code",
      "source": [
        "df.to_csv(\"Cleaned_Telecom_Customer_Churn.csv\")    #export dataframe to csv"
      ],
      "metadata": {
        "id": "tCgk4EJtzMPh"
      },
      "id": "tCgk4EJtzMPh",
      "execution_count": null,
      "outputs": []
    }
  ],
  "metadata": {
    "kernelspec": {
      "display_name": "Python 3 (ipykernel)",
      "language": "python",
      "name": "python3"
    },
    "language_info": {
      "codemirror_mode": {
        "name": "ipython",
        "version": 3
      },
      "file_extension": ".py",
      "mimetype": "text/x-python",
      "name": "python",
      "nbconvert_exporter": "python",
      "pygments_lexer": "ipython3",
      "version": "3.11.4"
    },
    "colab": {
      "provenance": []
    }
  },
  "nbformat": 4,
  "nbformat_minor": 5
}