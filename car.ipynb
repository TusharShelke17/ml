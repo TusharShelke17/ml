{
  "nbformat": 4,
  "nbformat_minor": 0,
  "metadata": {
    "colab": {
      "provenance": []
    },
    "kernelspec": {
      "name": "python3",
      "display_name": "Python 3"
    },
    "language_info": {
      "name": "python"
    }
  },
  "cells": [
    {
      "cell_type": "code",
      "execution_count": null,
      "metadata": {
        "id": "KGajJmKo7Fyr"
      },
      "outputs": [],
      "source": [
        "import pandas as pd\n",
        "from sklearn.ensemble import RandomForestClassifier\n",
        "from sklearn.preprocessing import LabelEncoder\n",
        "\n",
        "# Load the dataset\n",
        "data = pd.read_csv('car_evaluation.csv')\n",
        "\n",
        "# Rename columns\n",
        "data.columns = [\"buying\", \"maintenance\", \"doors\", \"persons\", \"lug_boot\", \"safety\", \"class\"]\n",
        "\n",
        "# Encode ordinal categorical variables\n",
        "ordinal_cols = [\"buying\", \"maintenance\", \"safety\"]\n",
        "data[ordinal_cols] = data[ordinal_cols].apply(LabelEncoder().fit_transform)\n",
        "\n",
        "# One-hot encode nominal categorical variables\n",
        "data = pd.get_dummies(data, columns=[\"doors\", \"persons\", \"lug_boot\"], drop_first=True)\n",
        "\n",
        "# Separate features (X) and target (y)\n",
        "X = data.drop('class', axis=1)\n",
        "y = data['class']\n",
        "\n",
        "# Initialize and train the Random Forest Classifier\n",
        "rf_classifier = RandomForestClassifier(n_estimators=100, random_state=42)\n",
        "rf_classifier.fit(X, y)\n",
        "\n",
        "# New sample data (replace with your own data)\n",
        "new_sample_data = pd.DataFrame({\n",
        "    \"buying\": [0],  # Encode ordinal categorical variable if applicable\n",
        "    \"maintenance\": [2],  # Encode ordinal categorical variable if applicable\n",
        "    \"doors_3\": [0],  # One-hot encoded features\n",
        "    \"doors_4\": [1],  # One-hot encoded features\n",
        "    \"persons_4\": [1],  # One-hot encoded features\n",
        "    \"persons_more\": [0],  # One-hot encoded features\n",
        "    \"lug_boot_small\": [1],  # One-hot encoded features\n",
        "    \"safety\": [1]  # Encode ordinal categorical variable if applicable\n",
        "})\n",
        "\n",
        "# Make predictions on the new sample data\n",
        "predictions = rf_classifier.predict(new_sample_data)\n",
        "\n",
        "print(\"Predicted class for the new sample:\")\n",
        "print(predictions)\n"
      ]
    }
  ]
}